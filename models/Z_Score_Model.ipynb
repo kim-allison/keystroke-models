{
  "nbformat": 4,
  "nbformat_minor": 0,
  "metadata": {
    "colab": {
      "name": "Z-Score Model",
      "provenance": [],
      "collapsed_sections": []
    },
    "kernelspec": {
      "display_name": "Python 3",
      "name": "python3"
    }
  },
  "cells": [
    {
      "cell_type": "markdown",
      "metadata": {
        "id": "AmcMByj23I5o"
      },
      "source": [
        "# Setup"
      ]
    },
    {
      "cell_type": "markdown",
      "metadata": {
        "id": "qg-ljbSJkKam"
      },
      "source": [
        " \n",
        "Assume that the survey data is exactly what we need.\n",
        "\n",
        "1) Test using thresholds from the **online** data set\n",
        "\n",
        "2) Train using the 2nd set of tests of 'user' in the **csv** data set (we found that the 2nd set of tests yielded us better results)\n",
        "\n",
        "3) Test using other (3rd) data in the **csv** data set!\n"
      ]
    },
    {
      "cell_type": "code",
      "metadata": {
        "colab": {
          "base_uri": "https://localhost:8080/"
        },
        "id": "JrfQLk822i1w",
        "outputId": "55a81f78-4649-4c52-ce07-c7005d67f5bd"
      },
      "source": [
        "'''\n",
        "  Find data in /data\n",
        "'''\n",
        "# # Load the Drive helper and mount\n",
        "# from google.colab import drive\n",
        "\n",
        "# # This will prompt for authorization.\n",
        "# drive.mount('/content/drive', force_remount=True)"
      ],
      "execution_count": null,
      "outputs": [
        {
          "output_type": "stream",
          "text": [
            "Mounted at /content/drive\n"
          ],
          "name": "stdout"
        }
      ]
    },
    {
      "cell_type": "code",
      "metadata": {
        "id": "XvlR5_Hj2pYG"
      },
      "source": [
        "import numpy as np\n",
        "import pandas as pd\n",
        "import matplotlib.pyplot as plt\n",
        "import math # new\n",
        "from operator import add\n",
        "random_seed = 1998\n",
        "#np.random.seed(0)\n",
        "import time\n"
      ],
      "execution_count": null,
      "outputs": []
    },
    {
      "cell_type": "markdown",
      "metadata": {
        "id": "NGuJsOgW3PPw"
      },
      "source": [
        "# Importing online data"
      ]
    },
    {
      "cell_type": "code",
      "metadata": {
        "id": "KmmIR0Jg3IGF"
      },
      "source": [
        "'''\n",
        "  Find data in /data/online_data.csv\n",
        "'''\n",
        "# data = pd.read_csv(\"/content/drive/Shared drives/Usable Passwords COMPS/Online Dataset Testing/DSL-StrongPasswordData.csv\")\n",
        "data = data[data.columns[:-3]] # remove return key from data set (if data set is in correct format)\n",
        "individuals = data[\"subject\"].unique() # NumPy: returns the sorted unique elements\n",
        "# individuals = array of user ids ('unique' ids), s002 to s057\n",
        "# array(['s002', 's003', 's004', 's005', 's007', 's008', 's010', 's011',\n",
        "#        's012', 's013', 's015', 's016', 's017', 's018', 's019', 's020',\n",
        "#        's021', 's022', 's024', 's025', 's026', 's027', 's028', 's029',\n",
        "#        's030', 's031', 's032', 's033', 's034', 's035', 's036', 's037',\n",
        "#        's038', 's039', 's040', 's041', 's042', 's043', 's044', 's046',\n",
        "#        's047', 's048', 's049', 's050', 's051', 's052', 's053', 's054',\n",
        "#        's055', 's056', 's057'], dtype=object)\n",
        "\n",
        "columns_to_drop = [i for i in data.columns if \"DD.\" in i] # remove down-down columns\n",
        "columns_to_keep = data.columns.drop(columns_to_drop)\n",
        "data = data[columns_to_keep]\n",
        "individuals = data[\"subject\"].unique()"
      ],
      "execution_count": null,
      "outputs": []
    },
    {
      "cell_type": "code",
      "metadata": {
        "id": "cfnAjaLypyti"
      },
      "source": [
        "'''\r\n",
        "  Extract data we use to figure out the mean and stdev.\r\n",
        "  (depends on seed and num_samples/ repetitions)\r\n",
        "'''\r\n",
        "def get_random_samples(df, user, session, num_samples = 10):\r\n",
        "  usable_rows = (df[\"subject\"] == user) & (df[\"sessionIndex\"] == session)\r\n",
        "  df = df[usable_rows]\r\n",
        "  global random_seed \r\n",
        "  df = df.sample(frac=1, random_state = random_seed)\r\n",
        "  df.reset_index(inplace=True, drop=True)\r\n",
        "  df = df.loc[:num_samples-1]\r\n",
        "  df = df[df.columns[3:]]\r\n",
        "  return df"
      ],
      "execution_count": null,
      "outputs": []
    },
    {
      "cell_type": "markdown",
      "metadata": {
        "id": "4XVx6NmISrOw"
      },
      "source": [
        "# 1) Testing (z-score)"
      ]
    },
    {
      "cell_type": "code",
      "metadata": {
        "id": "LDOVgTKDSwAq"
      },
      "source": [
        "'''\r\n",
        "  Calculates z-score for individual value and adds all of them up \r\n",
        "  ('averaged' total z-score by /sqrt(k))\r\n",
        "'''\r\n",
        "def calculate_sample_z_score(sample, avg, stdv):\r\n",
        "  total_z_score = 0\r\n",
        "\r\n",
        "  # print(\"Sample:\\n\")\r\n",
        "  # # print(type(sample))\r\n",
        "  # # <class 'pandas.core.series.Series'>\r\n",
        "  # print(sample.iloc[4:])\r\n",
        "\r\n",
        "  for i in range(len(sample)):\r\n",
        "    total_z_score += abs((sample[i] - avg[i]) / stdv[i])\r\n",
        "  return total_z_score"
      ],
      "execution_count": null,
      "outputs": []
    },
    {
      "cell_type": "code",
      "metadata": {
        "id": "6ww7xLnPSyaW"
      },
      "source": [
        "'''\r\n",
        "  Simply updates the confusion matrix:\r\n",
        "\r\n",
        "  The function calls calculate_sample_z_score and checks whether the z-score sum is within the bound. \r\n",
        "  If it is, and the user is the ‘true user’, it increments count for TA. If it is, \r\n",
        "  but the user is NOT the ‘true user’, it increments count for FA. If the z-score sum is larger than the bound, \r\n",
        "  then it increments count for TR/FR. The function does this for all sets in the dataset (samples).\r\n",
        "'''\r\n",
        "def update_confusion_matrix(confusion_matrix, avg, stdv, bound, samples, true_user):\r\n",
        "  for i in samples.index:\r\n",
        "    z_score = calculate_sample_z_score(samples.loc[i], avg, stdv) / math.sqrt(len(samples.loc[i]))\r\n",
        "    print(z_score)\r\n",
        "    if z_score > bound:\r\n",
        "      confusion_matrix[true_user+\"R\"] = confusion_matrix[true_user+\"R\"] + 1\r\n",
        "    else: # z-score sum is within bounds! yay, accept\r\n",
        "      confusion_matrix[true_user+\"A\"] = confusion_matrix[true_user+\"A\"] + 1\r\n",
        "  return confusion_matrix"
      ],
      "execution_count": null,
      "outputs": []
    },
    {
      "cell_type": "code",
      "metadata": {
        "id": "HSI9mPbRpIdr"
      },
      "source": [
        "'''\r\n",
        "  Extracts useful data, and computes the mean and variance for ‘repetitions’ amount of trials:\r\n",
        "\r\n",
        "  First we assume our model/ data follows a normal distribution. \r\n",
        "  We then filter out ‘useful data’, which are sets that correspond to a specific user \r\n",
        "  and a session (random <- 1 to 9). We call these sets usable rows. From the usable rows, \r\n",
        "  we get a random sample, but notice that frac = 1, we aren’t really taking a ‘portion’ of usable rows. \r\n",
        "  Instead, we are trying to randomize the row order. Next, we finally get a ‘repetitions’ amount \r\n",
        "  of trials from usable rows. We calculate and mean and stdev, and return these values. \r\n",
        "\r\n",
        "'''\r\n",
        "def get_probability_trained_bound(df, user, session, repetitions = 10):\r\n",
        "  # right now, we are assuming it's a normal distribution\r\n",
        "  usable_rows = (df[\"subject\"] == user) & (df[\"sessionIndex\"] == session) # filter 1 user, 1 session\r\n",
        "  df = df[usable_rows] # usable = chosen user and session\r\n",
        "  global random_seed \r\n",
        "  # return df.size (1100)\r\n",
        "  df = df.sample(frac=1, random_state = random_seed) # pandas: return a random sample, where frac = fraction of axis items to return\r\n",
        "  # return df.size (1100)??? <Q> why sample? -> randomizes rows\r\n",
        "  df.reset_index(inplace=True, drop=True) # resets index \r\n",
        "  df = df.loc[:repetitions-1] # get only 'repetitions' amount of rows\r\n",
        "  df = df[df.columns[3:]] # remove subject, sessionIndex, rep\r\n",
        "\r\n",
        "  average_row = {}\r\n",
        "  stdv = {}\r\n",
        "  for i in df.columns:\r\n",
        "    average_row[i] = df[i].mean()\r\n",
        "    stdv[i] = df[i].std()\r\n",
        "  df = df.append(average_row, ignore_index=True)\r\n",
        "  df = df.append(stdv, ignore_index=True)\r\n",
        "\r\n",
        "  probability_trained_bound = df.loc[repetitions:] # mean, stdev\r\n",
        "  probability_trained_bound = probability_trained_bound.rename(index={repetitions:\"avg\", repetitions+1:\"stdv\"})\r\n",
        "  return probability_trained_bound"
      ],
      "execution_count": null,
      "outputs": []
    },
    {
      "cell_type": "code",
      "metadata": {
        "id": "6z5JL1ebS0uY"
      },
      "source": [
        "'''\r\n",
        "  Returns a ‘fully calculated’ confusion matrix (for one user), \r\n",
        "  where each element in the list (list <- FA/FR/TA/TR) corresponds to a count of samples within a bound:\r\n",
        " \r\n",
        "  We finally get to use bounds here. For each bound, we compute the mean and stdev \r\n",
        "  (bound not needed. Use function ‘get_probability_trained_bound’).\r\n",
        "'''\r\n",
        "def test_probability_trained_bound(df, user, bounds_to_test, repetitions_train = 10, repetitions_test = 50):\r\n",
        "  confusion_matrix_progression = {\"TA\":[], \"TR\":[], \"FA\":[], \"FR\":[]}\r\n",
        "  \r\n",
        "  for bound in bounds_to_test:\r\n",
        "    print(bound)\r\n",
        "    confusion_matrix = {\"TA\":0, \"TR\":0, \"FA\":0, \"FR\":0}\r\n",
        "    np.random.seed(0) \r\n",
        "    training_session = np.random.randint(1, 9)\r\n",
        "    start = time.time()\r\n",
        "    avg_stdv = get_probability_trained_bound(df, user, training_session, repetitions_train)\r\n",
        "    end = time.time()\r\n",
        "    print(end - start)\r\n",
        "    trained_average = avg_stdv.loc[\"avg\"]\r\n",
        "    trained_stdv = avg_stdv.loc[\"stdv\"]\r\n",
        "\r\n",
        "    for session in range(1, 9):\r\n",
        "      if session == training_session:\r\n",
        "        continue\r\n",
        "      random_sample = get_random_samples(df, user, session, repetitions_test)\r\n",
        "      confusion_matrix = update_confusion_matrix(confusion_matrix, trained_average, trained_stdv, bound, random_sample, \"T\")\r\n",
        "      \r\n",
        "    for test_user in df[\"subject\"].unique():\r\n",
        "      if test_user == user:\r\n",
        "        continue\r\n",
        "      for session in range(1, 9):\r\n",
        "        random_sample = get_random_samples(df, test_user, session, repetitions_test)\r\n",
        "        confusion_matrix = update_confusion_matrix(confusion_matrix, trained_average, trained_stdv, bound, random_sample, \"F\")\r\n",
        "    \r\n",
        "    for key in confusion_matrix_progression.keys():\r\n",
        "      confusion_matrix_progression[key].append(confusion_matrix[key])\r\n",
        "\r\n",
        "  return confusion_matrix_progression"
      ],
      "execution_count": null,
      "outputs": []
    },
    {
      "cell_type": "code",
      "metadata": {
        "id": "QYP91Ei1S4bc"
      },
      "source": [
        "'''\r\n",
        "  Loops over all users and sums up all confusion matrices (creates individual plots as well)!\r\n",
        "'''\r\n",
        "bounds = np.linspace(0, 10, 11) # return evenly spaced numbers over a specified interval, so 10 evenly spaced samples from 0 to 10\r\n",
        "  # array([ 0.        ,  1.11111111,  2.22222222,  3.33333333,  4.44444444,\r\n",
        "  #         5.55555556,  6.66666667,  7.77777778,  8.88888889, 10.        ])\r\n",
        "\r\n",
        "total_cm = {}\r\n",
        "\r\n",
        "for user_i in range(0,len(individuals)):\r\n",
        "  confusion_matrix_progression_probability = test_probability_trained_bound(data, individuals[user_i], bounds, 10, 50) \r\n",
        "  # plt.plot(np.array(confusion_matrix_progression_probability['FA']) / (confusion_matrix_progression_probability['FA'][0] + confusion_matrix_progression_probability['FR'][0]))\r\n",
        "  # plt.plot(np.array(confusion_matrix_progression_probability['TA']) / (confusion_matrix_progression_probability['TA'][0] + confusion_matrix_progression_probability['TR'][0]))\r\n",
        "  # plt.show()\r\n",
        "\r\n",
        "  print('user cm: ', confusion_matrix_progression_probability)\r\n",
        "  # print('total cm: ', total_cm)\r\n",
        "  if len(total_cm) == 0:\r\n",
        "    total_cm = confusion_matrix_progression_probability\r\n",
        "  else:\r\n",
        "    for rate in confusion_matrix_progression_probability:\r\n",
        "      added_prob = list(map(add, total_cm[rate], confusion_matrix_progression_probability[rate]))\r\n",
        "      total_cm[rate] = added_prob\r\n",
        "\r\n",
        "    # 'steeper' slop -> FA < TA, and we want to optimize this\r\n",
        "    plt.plot(np.array(confusion_matrix_progression_probability['FA']) / (confusion_matrix_progression_probability['FA'][0] + confusion_matrix_progression_probability['FR'][0]), np.array(confusion_matrix_progression_probability['TA']) / (confusion_matrix_progression_probability['TA'][0] + confusion_matrix_progression_probability['TR'][0]))\r\n",
        "    plt.plot(np.linspace(0, 1, 2), np.linspace(1, 0, 2), color = \"black\")\r\n",
        "    plt.xlabel(\"FAR\")\r\n",
        "    plt.ylabel(\"TAR\")\r\n",
        "    plt.title(individuals[user_i])\r\n",
        "    plt.show()\r\n"
      ],
      "execution_count": null,
      "outputs": []
    },
    {
      "cell_type": "code",
      "metadata": {
        "id": "EQbNFdlUuzLx",
        "colab": {
          "base_uri": "https://localhost:8080/",
          "height": 368
        },
        "outputId": "e39eb3c7-622b-4c2e-c15f-c35862cf226b"
      },
      "source": [
        "avg_cm = {}\r\n",
        "# this step is intuitively reasonable, but unnecessary in this case\r\n",
        "# since total_cm already sums up rates and is therefore ~ average.\r\n",
        "for rate in total_cm:\r\n",
        "  avg_prob = list(map(lambda x: x/len(individuals), total_cm[rate]))\r\n",
        "  avg_cm[rate] = avg_prob\r\n",
        "print('avg cm: ', avg_cm)\r\n",
        "\r\n",
        "plt.plot(np.array(avg_cm['FA']) / (avg_cm['FA'][0] + avg_cm['FR'][0]),\r\n",
        "        np.array(avg_cm['TA']) / (avg_cm['TA'][0] + avg_cm['TR'][0]))\r\n",
        "plt.plot(np.linspace(0, 1, 2), np.linspace(1, 0, 2), color = \"black\")\r\n",
        "plt.title(\"avg\")\r\n",
        "plt.xlabel(\"FAR\")\r\n",
        "plt.ylabel(\"TAR\")\r\n",
        "plt.show()\r\n",
        "\r\n",
        "TAR_progression = np.array(avg_cm['TA']) / (avg_cm['TA'][0] + avg_cm['TR'][0])\r\n",
        "FAR_progression = np.array(avg_cm['FA']) / (avg_cm['FA'][0] + avg_cm['FR'][0])\r\n",
        "\r\n",
        "best_index = np.argmin(abs(1 - (TAR_progression + FAR_progression))) # which bound gives us a rate sum close to 1?\r\n",
        "best_bound = bounds[best_index]\r\n",
        "print(best_index)\r\n",
        "print(best_bound)\r\n",
        "\r\n",
        "# the best bound from the online data set = 8"
      ],
      "execution_count": null,
      "outputs": [
        {
          "output_type": "stream",
          "text": [
            "avg cm:  {'TA': [0.0, 0.0, 0.3333333333333333, 15.882352941176471, 79.45098039215686, 157.84313725490196, 219.0, 259.52941176470586, 285.7450980392157, 302.88235294117646, 313.3921568627451], 'TR': [350.0, 350.0, 349.6666666666667, 334.11764705882354, 270.54901960784315, 192.15686274509804, 131.0, 90.47058823529412, 64.25490196078431, 47.11764705882353, 36.6078431372549], 'FA': [0.0, 0.0, 0.0392156862745098, 5.098039215686274, 109.56862745098039, 532.1764705882352, 1398.6078431372548, 2672.294117647059, 4215.725490196079, 5891.764705882353, 7573.254901960784], 'FR': [20000.0, 20000.0, 19999.960784313724, 19994.901960784315, 19890.43137254902, 19467.823529411766, 18601.392156862745, 17327.70588235294, 15784.274509803921, 14108.235294117647, 12426.745098039215]}\n"
          ],
          "name": "stdout"
        },
        {
          "output_type": "display_data",
          "data": {
            "image/png": "[encoded data removed]",
            "text/plain": [
              "<Figure size 432x288 with 1 Axes>"
            ]
          },
          "metadata": {
            "tags": [],
            "needs_background": "light"
          }
        },
        {
          "output_type": "stream",
          "text": [
            "8\n",
            "8.0\n"
          ],
          "name": "stdout"
        }
      ]
    },
    {
      "cell_type": "markdown",
      "metadata": {
        "id": "Ntn2dw03Woic"
      },
      "source": [
        "# 2) and 3) Testing with survey data"
      ]
    },
    {
      "cell_type": "code",
      "metadata": {
        "id": "Q7u45xGgXADo"
      },
      "source": [
        "'''\r\n",
        "  Find data in /data/survey_data_csv.csv\r\n",
        "'''\r\n",
        "# survey_data = pd.read_csv(\"/content/drive/Shared drives/Usable Passwords COMPS/SurveyData/Survey_A.csv\")"
      ],
      "execution_count": null,
      "outputs": []
    },
    {
      "cell_type": "code",
      "metadata": {
        "id": "qS-7rhfzjbQO"
      },
      "source": [
        "'''\r\n",
        "  Same as the one in the previous section --\r\n",
        "  just needed a new one to index sample.\r\n",
        "'''\r\n",
        "def calculate_sample_z_score_survey(sample, avg, stdv):\r\n",
        "  total_z_score = 0\r\n",
        "  sample = sample.iloc[4:] # the survey data sample has other columns (subject and stuff)\r\n",
        "  # print(\"Sample:\\n\")\r\n",
        "  # print(type(sample))\r\n",
        "  # <class 'pandas.core.series.Series'>\r\n",
        "  # print(sample.iloc[4:])\r\n",
        "  # print(sample)\r\n",
        "\r\n",
        "  for i in range(len(sample)):\r\n",
        "    total_z_score += abs((sample[i] - avg[i]) / stdv[i])\r\n",
        "  return total_z_score"
      ],
      "execution_count": null,
      "outputs": []
    },
    {
      "cell_type": "code",
      "metadata": {
        "id": "UQslQeaVjm7x"
      },
      "source": [
        "'''\r\n",
        "  Same as the one in the previous section --\r\n",
        "  changed the z-score function so that function call\r\n",
        "  had to be different (lazy move).\r\n",
        "'''\r\n",
        "def update_confusion_matrix_survey(confusion_matrix, avg, stdv, bound, samples, true_user):\r\n",
        "  for i in samples.index:\r\n",
        "    z_score = calculate_sample_z_score_survey(samples.loc[i], avg, stdv) / math.sqrt(len(samples.loc[i]))\r\n",
        "    if z_score > bound:\r\n",
        "      confusion_matrix[true_user+\"R\"] = confusion_matrix[true_user+\"R\"] + 1\r\n",
        "    else: # z-score sum is within bounds! yay, accept\r\n",
        "      confusion_matrix[true_user+\"A\"] = confusion_matrix[true_user+\"A\"] + 1\r\n",
        "  return confusion_matrix"
      ],
      "execution_count": null,
      "outputs": []
    },
    {
      "cell_type": "code",
      "metadata": {
        "id": "keLDwiymXEF-"
      },
      "source": [
        "'''\r\n",
        "  We just set ‘repetitions = 10’. That's the only difference.\r\n",
        "'''\r\n",
        "def get_probability_trained_bound_survey(df, user, session):\r\n",
        "  usable_rows = (df[\"subject\"] == user) & (df[\"sessionIndex\"] == session) # filter 1 user, 1 session\r\n",
        "  df = df[usable_rows] # usable = chosen user and session\r\n",
        "  \r\n",
        "  global random_seed \r\n",
        " \r\n",
        "  #pandas: return a random sample, where frac = fraction of axis items to return\r\n",
        "  #df = df.sample(frac=1, random_state = random_seed) \r\n",
        "\r\n",
        "  df.reset_index(inplace=True, drop=True) # resets index \r\n",
        "  df = df[df.columns[3:]] # remove subject, sessionIndex, rep\r\n",
        "\r\n",
        "  average_row = {}\r\n",
        "  stdv = {}\r\n",
        "  for i in df.columns:\r\n",
        "    average_row[i] = df[i].mean()\r\n",
        "    stdv[i] = df[i].std()\r\n",
        "  df = df.append(average_row, ignore_index=True)\r\n",
        "  df = df.append(stdv, ignore_index=True)\r\n",
        "\r\n",
        "  probability_trained_bound = df.loc[10:] # mean, stdev\r\n",
        "  probability_trained_bound = probability_trained_bound.rename(index={10:\"avg\", 11:\"stdv\"})\r\n",
        "  return probability_trained_bound"
      ],
      "execution_count": null,
      "outputs": []
    },
    {
      "cell_type": "code",
      "metadata": {
        "id": "KdBE3aV4XHMy"
      },
      "source": [
        "'''\r\n",
        "  For the survey data, we are using only one bound (optimal ‘z-score-sum-bounds’, which was 8), \r\n",
        "  so we don’t have to loop over all bounds. We also don’t have to randomly \r\n",
        "  select a session since we decided to train on session 2. \r\n",
        "'''\r\n",
        "def test_probability_trained_bound_survey(df, user, bound, session_train):\r\n",
        "  \r\n",
        "  confusion_matrix = {\"TA\":0, \"TR\":0, \"FA\":0, \"FR\":0}\r\n",
        "  start = time.time()\r\n",
        "  avg_stdv = get_probability_trained_bound(df, user, session_train)\r\n",
        "  end = time.time()\r\n",
        "  print(end-start)\r\n",
        "  trained_avg = avg_stdv.loc[\"avg\"]\r\n",
        "  trained_stdv = avg_stdv.loc[\"stdv\"]\r\n",
        "\r\n",
        "  # 1) TRUE: test 9 sessions data against mean/ stdev calculations\r\n",
        "  # we are trying to identify a 'user' (testing for one user's sessions)\r\n",
        "  usable_rows = (df[\"subject\"] == user) & (df[\"sessionIndex\"] == 3) # filter 1 user, 1 session\r\n",
        "  test_sample = df[usable_rows] # usable = chosen user and session\r\n",
        "  test_sample.reset_index(inplace = True)\r\n",
        "  confusion_matrix = update_confusion_matrix_survey(confusion_matrix, trained_avg, trained_stdv, bound, test_sample, \"T\")\r\n",
        "\r\n",
        "  # 2) FALSE: not user\r\n",
        "  non_user_rows =  (df[\"subject\"] != user)\r\n",
        "  test_sample = df[non_user_rows]\r\n",
        "  test_sample.reset_index(inplace = True)\r\n",
        "  confusion_matrix = update_confusion_matrix_survey(confusion_matrix, trained_avg, trained_stdv, bound, test_sample, \"F\")\r\n",
        "\r\n",
        "  #print(confusion_matrix)\r\n",
        "  return confusion_matrix"
      ],
      "execution_count": null,
      "outputs": []
    },
    {
      "cell_type": "code",
      "metadata": {
        "id": "Znd4WU8aXLj5"
      },
      "source": [
        "TAR_list = []\r\n",
        "FAR_list = []\r\n",
        "# total_cm = {}\r\n",
        "for users in survey_data[\"subject\"].unique():\r\n",
        "  #check if user has 30 inputs\r\n",
        "  if(survey_data[\"subject\"]==users).sum() != 30:\r\n",
        "    continue\r\n",
        "  confusion_matrix = test_probability_trained_bound_survey(survey_data, user = users, bound=8, session_train = 2)\r\n",
        "  TAR = confusion_matrix['TA']/(confusion_matrix['TA'] + confusion_matrix['TR'])\r\n",
        "  FAR = confusion_matrix['FA']/(confusion_matrix['FA'] + confusion_matrix['FR'])\r\n",
        "  TAR_list.append(TAR)\r\n",
        "  FAR_list.append(FAR)\r\n",
        "\r\n",
        "print(np.array(TAR_list).min())\r\n",
        "print(np.array(FAR_list).max())\r\n",
        "print(\"\")\r\n",
        "print(np.array(TAR_list).mean()) # that's pretty good:)\r\n",
        "print(np.array(FAR_list).mean())"
      ],
      "execution_count": null,
      "outputs": []
    }
  ]
}